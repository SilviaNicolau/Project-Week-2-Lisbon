{
 "cells": [
  {
   "cell_type": "code",
   "execution_count": 1,
   "metadata": {},
   "outputs": [],
   "source": [
    "import pandas as pd\n",
    "import numpy as np\n",
    "import re"
   ]
  },
  {
   "cell_type": "code",
   "execution_count": 2,
   "metadata": {},
   "outputs": [],
   "source": [
    "ds_male = pd.read_csv('../datasets/male-labour-force-j.csv')\n",
    "\n",
    "ds_female = pd.read_csv('../datasets/female-labour-force-j.csv')\n",
    "\n",
    "total_labour = pd.concat([ds_male, ds_female])\n",
    "total_labour.drop('Unnamed: 30', axis = 1, inplace = True)\n",
    "\n",
    "total_labour.columns = total_labour.columns.str.strip()\n",
    "total_labour = total_labour.loc[[0,24], : ]\n",
    "total_labour.set_index('Variables',inplace = True)\n",
    "total_labour.index.str.strip()\n",
    "\n",
    "total_labour = total_labour.T\n",
    "total_labour['Unemployment % - Male'] = total_labour [' Male Unemployed Residents '].astype(int) / total_labour[' Male Residents In The Labour Force '] * 100\n",
    "total_labour['Unemployment % - Female'] = total_labour [' Female Unemployed Residents '].astype(int) / total_labour[' Female Residents In The Labour Force '] * 100\n",
    "total_labour = total_labour.T\n",
    "\n",
    "ds_earning = pd.read_csv(\"../datasets/average-mean-monthly-earnings-per-employee-by-sex-annual-j.csv\")\n"
   ]
  },
  {
   "cell_type": "code",
   "execution_count": 3,
   "metadata": {},
   "outputs": [],
   "source": [
    "#function to convert column values to % values \n",
    "def col_to_perc(df_column):\n",
    "    return df_column / df_column.sum() * 100"
   ]
  },
  {
   "cell_type": "code",
   "execution_count": 4,
   "metadata": {},
   "outputs": [
    {
     "data": {
      "text/html": [
       "<div>\n",
       "<style scoped>\n",
       "    .dataframe tbody tr th:only-of-type {\n",
       "        vertical-align: middle;\n",
       "    }\n",
       "\n",
       "    .dataframe tbody tr th {\n",
       "        vertical-align: top;\n",
       "    }\n",
       "\n",
       "    .dataframe thead th {\n",
       "        text-align: right;\n",
       "    }\n",
       "</style>\n",
       "<table border=\"1\" class=\"dataframe\">\n",
       "  <thead>\n",
       "    <tr style=\"text-align: right;\">\n",
       "      <th>Variables</th>\n",
       "      <th>Unemployment % - Male</th>\n",
       "      <th>Unemployment % - Female</th>\n",
       "      <th>F/M Ratio</th>\n",
       "    </tr>\n",
       "  </thead>\n",
       "  <tbody>\n",
       "    <tr>\n",
       "      <td>1990 - 1999</td>\n",
       "      <td>2.79</td>\n",
       "      <td>3.01</td>\n",
       "      <td>1.08</td>\n",
       "    </tr>\n",
       "    <tr>\n",
       "      <td>2000 - 2009</td>\n",
       "      <td>4.74</td>\n",
       "      <td>5.46</td>\n",
       "      <td>1.15</td>\n",
       "    </tr>\n",
       "    <tr>\n",
       "      <td>2010 - 2018</td>\n",
       "      <td>3.62</td>\n",
       "      <td>4.21</td>\n",
       "      <td>1.16</td>\n",
       "    </tr>\n",
       "  </tbody>\n",
       "</table>\n",
       "</div>"
      ],
      "text/plain": [
       "Variables    Unemployment % - Male  Unemployment % - Female  F/M Ratio\n",
       "1990 - 1999                   2.79                     3.01       1.08\n",
       "2000 - 2009                   4.74                     5.46       1.15\n",
       "2010 - 2018                   3.62                     4.21       1.16"
      ]
     },
     "execution_count": 4,
     "metadata": {},
     "output_type": "execute_result"
    }
   ],
   "source": [
    "# aggregate data per decade - 90s', 00's and 10's\n",
    "\n",
    "total_labour['1990 - 1999'] = total_labour.loc[:,'1990':'1999'].mean(axis=1)\n",
    "total_labour['2000 - 2009'] = total_labour.loc[:,'2000':'2009'].mean(axis=1)\n",
    "total_labour['2010 - 2018'] = total_labour.loc[:,'2010':'2018'].mean(axis=1)\n",
    "\n",
    "total_labour = total_labour.iloc[4:6,-3:]\n",
    "total_labour = total_labour.T\n",
    "\n",
    "total_labour['F/M Ratio'] = total_labour['Unemployment % - Female'] / total_labour['Unemployment % - Male']\n",
    "\n",
    "total_labour.round(2)"
   ]
  },
  {
   "cell_type": "code",
   "execution_count": 5,
   "metadata": {},
   "outputs": [
    {
     "data": {
      "text/html": [
       "<div>\n",
       "<style scoped>\n",
       "    .dataframe tbody tr th:only-of-type {\n",
       "        vertical-align: middle;\n",
       "    }\n",
       "\n",
       "    .dataframe tbody tr th {\n",
       "        vertical-align: top;\n",
       "    }\n",
       "\n",
       "    .dataframe thead th {\n",
       "        text-align: right;\n",
       "    }\n",
       "</style>\n",
       "<table border=\"1\" class=\"dataframe\">\n",
       "  <thead>\n",
       "    <tr style=\"text-align: right;\">\n",
       "      <th></th>\n",
       "      <th>sex</th>\n",
       "      <th>female</th>\n",
       "      <th>male</th>\n",
       "      <th>F/M Ratio</th>\n",
       "    </tr>\n",
       "    <tr>\n",
       "      <th></th>\n",
       "      <th>year</th>\n",
       "      <th></th>\n",
       "      <th></th>\n",
       "      <th></th>\n",
       "    </tr>\n",
       "  </thead>\n",
       "  <tbody>\n",
       "    <tr>\n",
       "      <td>2000-2009</td>\n",
       "      <td></td>\n",
       "      <td>2872.80</td>\n",
       "      <td>3965.30</td>\n",
       "      <td>0.72</td>\n",
       "    </tr>\n",
       "    <tr>\n",
       "      <td>2010-2018</td>\n",
       "      <td></td>\n",
       "      <td>4051.22</td>\n",
       "      <td>5427.11</td>\n",
       "      <td>0.75</td>\n",
       "    </tr>\n",
       "  </tbody>\n",
       "</table>\n",
       "</div>"
      ],
      "text/plain": [
       "sex              female     male  F/M Ratio\n",
       "          year                             \n",
       "2000-2009       2872.80  3965.30       0.72\n",
       "2010-2018       4051.22  5427.11       0.75"
      ]
     },
     "execution_count": 5,
     "metadata": {},
     "output_type": "execute_result"
    }
   ],
   "source": [
    "ds_earning = ds_earning[ds_earning['sex']!= 'total']\n",
    "ds_earning = pd.pivot_table(ds_earning, values=['average_monthly_earnings'], index = ['sex'],columns=['year'], aggfunc=np.mean)\n",
    "\n",
    "ds_earning['2000-2009'] =  ds_earning.loc[:,('average_monthly_earnings', 2000):('average_monthly_earnings', 2009)].mean(axis=1)\n",
    "ds_earning['2010-2018'] =  ds_earning.loc[:,('average_monthly_earnings', 2010):('average_monthly_earnings', 2018)].mean(axis=1)\n",
    "\n",
    "ds_earning = ds_earning.iloc[:,-2:].T\n",
    "ds_earning['F/M Ratio'] = ds_earning['female']/ds_earning['male']\n",
    "\n",
    "ds_earning.droplevel('year', axis = 0)\n",
    "ds_earning.round(2)"
   ]
  }
 ],
 "metadata": {
  "kernelspec": {
   "display_name": "Python 3",
   "language": "python",
   "name": "python3"
  },
  "language_info": {
   "codemirror_mode": {
    "name": "ipython",
    "version": 3
   },
   "file_extension": ".py",
   "mimetype": "text/x-python",
   "name": "python",
   "nbconvert_exporter": "python",
   "pygments_lexer": "ipython3",
   "version": "3.7.4"
  }
 },
 "nbformat": 4,
 "nbformat_minor": 2
}
