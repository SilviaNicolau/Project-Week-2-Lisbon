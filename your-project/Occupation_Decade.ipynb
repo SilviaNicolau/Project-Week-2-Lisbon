{
 "cells": [
  {
   "cell_type": "code",
   "execution_count": 2,
   "metadata": {},
   "outputs": [],
   "source": [
    "import numpy as np\n",
    "import pandas as pd"
   ]
  },
  {
   "cell_type": "code",
   "execution_count": 3,
   "metadata": {},
   "outputs": [
    {
     "data": {
      "text/plain": [
       "Index(['Legislators & Senior Officials & Managers',\n",
       "       'Managers & Administrators', 'Working Proprietors', 'Professionals',\n",
       "       'Associate Professionals & Technicians', 'Clerical Support Workers',\n",
       "       'Service & Sales Workers', 'Craftsmen & Related Trade Workers',\n",
       "       'Plant & Machine Operators & Assemblers',\n",
       "       'Cleaners & Labourers & Related Workers',\n",
       "       'Other Occupation Groups Nes'],\n",
       "      dtype='object', name='Variables')"
      ]
     },
     "execution_count": 3,
     "metadata": {},
     "output_type": "execute_result"
    }
   ],
   "source": [
    "#Read Data and Cleaning\n",
    "\n",
    "occupation_f = pd.read_csv('../datasets/Employed Female Residents Aged 15 Years And Over By Occupation And Age Group.csv')\n",
    "occupation_m = pd.read_csv('../datasets/Employed Male Residents Aged 15 Years And Over By Occupation And Age Group.csv')\n",
    "\n",
    "occupation_f = occupation_f.drop('Unnamed: 30', axis = 1)\n",
    "occupation_m = occupation_m.drop('Unnamed: 30', axis = 1)\n",
    "\n",
    "occupation_f = occupation_f.loc[1:11, : ]\n",
    "occupation_m = occupation_m.loc[1:11, : ]\n",
    "\n",
    "occupation_f.columns = occupation_f.columns.str.strip()\n",
    "occupation_m.columns = occupation_m.columns.str.strip()\n",
    "\n",
    "occupation_f.set_index('Variables',inplace = True)\n",
    "occupation_m.set_index('Variables',inplace = True)\n",
    "\n",
    "occupation_f.index.str.strip()\n",
    "occupation_m.index.str.strip()"
   ]
  },
  {
   "cell_type": "code",
   "execution_count": 59,
   "metadata": {},
   "outputs": [],
   "source": [
    "#function to convert column values to % values \n",
    "def col_to_perc(df_column):\n",
    "    return df_column / df_column.sum() * 100"
   ]
  },
  {
   "cell_type": "raw",
   "metadata": {},
   "source": [
    "# aggregate data per decade - 90s', 00's and 10's\n",
    "occupation_f['1990 - 1999'] = occupation_f.loc[:,'1990':'1999'].sum(axis=1)\n",
    "occupation_f['2000 - 2009'] = occupation_f.loc[:,'2000':'2009'].sum(axis=1)\n",
    "occupation_f['2010 - 2018'] = occupation_f.loc[:,'2010':'2018'].sum(axis=1)\n",
    "\n",
    "occupation_m['1990 - 1999'] = occupation_m.loc[:,'1990':'1999'].sum(axis=1)\n",
    "occupation_m['2000 - 2009'] = occupation_m.loc[:,'2000':'2009'].sum(axis=1)\n",
    "occupation_m['2010 - 2018'] = occupation_m.loc[:,'2010':'2018'].sum(axis=1)\n",
    "\n",
    "#create new df with only per decade data\n",
    "occupation_f_decade = occupation_f.loc[:,'1990 - 1999':]\n",
    "occupation_m_decade = occupation_m.loc[:,'1990 - 1999':]\n",
    "\n",
    "occupation_f_decade['Gender'] = 'Female'\n",
    "occupation_m_decade['Gender']= 'Male'\n",
    "\n",
    "total_occupation = pd.concat([occupation_f_decade, occupation_m_decade])\n",
    "\n",
    "total_occupation = pd.pivot_table(total_occupation, values=['1990 - 1999','2000 - 2009', '2010 - 2018'], index=['Variables'], columns=['Gender'], aggfunc=np.sum)\n",
    "total_occupation\n",
    "\n",
    "# Convert columns to % \n",
    "total_occupation[('1990 - 1999', 'Female')] = col_to_perc(total_occupation [('1990 - 1999', 'Female')]) \n",
    "total_occupation [('1990 - 1999', 'Male')] = col_to_perc(total_occupation [('1990 - 1999', 'Male')] )\n",
    "total_occupation [('2000 - 2009', 'Female')] = col_to_perc(total_occupation [('2000 - 2009', 'Female')])\n",
    "total_occupation [('2000 - 2009', 'Male')] = col_to_perc(total_occupation [('2000 - 2009', 'Male')])\n",
    "total_occupation [('2010 - 2018', 'Female')] = col_to_perc(total_occupation[('2010 - 2018', 'Female')])\n",
    "total_occupation[('2010 - 2018', 'Male')] = col_to_perc(total_occupation [('2010 - 2018', 'Male')] )\n",
    "\n",
    "total_occupation.loc[\"Total\"] = total_occupation.sum(axis=0) # Get Totals per Gender\n",
    "\n",
    "# Get the Ratio of % Female/ % Male in each Education Level per Decade\n",
    "total_occupation [('1990 - 1999', 'F/M Ratio')] = total_occupation [('1990 - 1999', 'Female')] / total_occupation [('1990 - 1999', 'Male')]\n",
    "total_occupation [('2000 - 2009', 'F/M Ratio')] = total_occupation [('2000 - 2009', 'Female')] / total_occupation [('2000 - 2009', 'Male')]\n",
    "total_occupation [('2010 - 2018', 'F/M Ratio')] = total_occupation [('2010 - 2018', 'Female')] / total_occupation [('2010 - 2018', 'Male')]\n",
    "\n",
    "total_occupation = total_occupation.round(2)\n",
    "total_occupation.index.names = ['Occupation']\n",
    "total_occupation"
   ]
  },
  {
   "cell_type": "code",
   "execution_count": null,
   "metadata": {},
   "outputs": [],
   "source": []
  }
 ],
 "metadata": {
  "kernelspec": {
   "display_name": "Python 3",
   "language": "python",
   "name": "python3"
  },
  "language_info": {
   "codemirror_mode": {
    "name": "ipython",
    "version": 3
   },
   "file_extension": ".py",
   "mimetype": "text/x-python",
   "name": "python",
   "nbconvert_exporter": "python",
   "pygments_lexer": "ipython3",
   "version": "3.7.4"
  }
 },
 "nbformat": 4,
 "nbformat_minor": 2
}
